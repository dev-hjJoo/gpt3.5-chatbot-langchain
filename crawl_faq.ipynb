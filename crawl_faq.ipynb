{
 "cells": [
  {
   "cell_type": "markdown",
   "metadata": {},
   "source": [
    "# Get FAQ\n",
    "Data Crawling & Preprocessing"
   ]
  },
  {
   "cell_type": "markdown",
   "metadata": {},
   "source": [
    "### 1. Import libraries"
   ]
  },
  {
   "cell_type": "code",
   "execution_count": 1,
   "metadata": {},
   "outputs": [],
   "source": [
    "import requests\n",
    "from urllib.request import urlopen\n",
    "import pandas as pd\n",
    "from bs4 import BeautifulSoup"
   ]
  },
  {
   "cell_type": "markdown",
   "metadata": {},
   "source": [
    "### 2. FAQ for KT AIVLE trainees\n",
    "Cookie values ​​are required for crawling. My SESSION value has been masked, so it needs to be modified to use this code."
   ]
  },
  {
   "cell_type": "code",
   "execution_count": 2,
   "metadata": {},
   "outputs": [
    {
     "data": {
      "text/plain": [
       "<Response [200]>"
      ]
     },
     "execution_count": 2,
     "metadata": {},
     "output_type": "execute_result"
    }
   ],
   "source": [
    "headers = {'User-Agnet': 'Mozilla/5.0 (Windows NT 10.0; Win64; x64) AppleWebKit/537.36 (KHTML, like Gecko) Chrome/125.0.0.0 Safari/537.36',}\n",
    "url = 'https://aivle.edu.kt.co.kr/home/brd/faq/list'\n",
    "cookie = {'SESSION': 'your_session_value'}\n",
    "\n",
    "response = requests.post(url, headers=headers, cookies=cookie)\n",
    "response\n"
   ]
  },
  {
   "cell_type": "code",
   "execution_count": 3,
   "metadata": {},
   "outputs": [
    {
     "data": {
      "text/html": [
       "<div>\n",
       "<style scoped>\n",
       "    .dataframe tbody tr th:only-of-type {\n",
       "        vertical-align: middle;\n",
       "    }\n",
       "\n",
       "    .dataframe tbody tr th {\n",
       "        vertical-align: top;\n",
       "    }\n",
       "\n",
       "    .dataframe thead th {\n",
       "        text-align: right;\n",
       "    }\n",
       "</style>\n",
       "<table border=\"1\" class=\"dataframe\">\n",
       "  <thead>\n",
       "    <tr style=\"text-align: right;\">\n",
       "      <th></th>\n",
       "      <th>구분</th>\n",
       "      <th>QA</th>\n",
       "    </tr>\n",
       "  </thead>\n",
       "  <tbody>\n",
       "    <tr>\n",
       "      <th>0</th>\n",
       "      <td>진행</td>\n",
       "      <td>자리 이석 시 어떻게 해야하나요?\\n이석으로 자리를 비울 경우 외출을 사용해 주시면...</td>\n",
       "    </tr>\n",
       "    <tr>\n",
       "      <th>1</th>\n",
       "      <td>진행</td>\n",
       "      <td>출석인정요청은 어떻게 하나요?\\n출결에 대한 출석인정요청은 D(사유발생일)+7일 이...</td>\n",
       "    </tr>\n",
       "    <tr>\n",
       "      <th>2</th>\n",
       "      <td>진행</td>\n",
       "      <td>휴가 제도는 어떻게 되나요?\\n휴가는 단위기간당 1회 사용 가능하며, 교육은 정상 ...</td>\n",
       "    </tr>\n",
       "    <tr>\n",
       "      <th>3</th>\n",
       "      <td>진행</td>\n",
       "      <td>학교 수업 및 시험은 출결 인정이 되나요?\\n학과수업 및 시험의 경우 출석 인정이 ...</td>\n",
       "    </tr>\n",
       "    <tr>\n",
       "      <th>4</th>\n",
       "      <td>진행</td>\n",
       "      <td>국민취업제도 상담을 위한 외출도 출결에 반영되나요?\\n국취제 상담은 공가처리 불가하...</td>\n",
       "    </tr>\n",
       "  </tbody>\n",
       "</table>\n",
       "</div>"
      ],
      "text/plain": [
       "   구분                                                 QA\n",
       "0  진행  자리 이석 시 어떻게 해야하나요?\\n이석으로 자리를 비울 경우 외출을 사용해 주시면...\n",
       "1  진행  출석인정요청은 어떻게 하나요?\\n출결에 대한 출석인정요청은 D(사유발생일)+7일 이...\n",
       "2  진행  휴가 제도는 어떻게 되나요?\\n휴가는 단위기간당 1회 사용 가능하며, 교육은 정상 ...\n",
       "3  진행  학교 수업 및 시험은 출결 인정이 되나요?\\n학과수업 및 시험의 경우 출석 인정이 ...\n",
       "4  진행  국민취업제도 상담을 위한 외출도 출결에 반영되나요?\\n국취제 상담은 공가처리 불가하..."
      ]
     },
     "execution_count": 3,
     "metadata": {},
     "output_type": "execute_result"
    }
   ],
   "source": [
    "# Extract FAQ's questions and answers from html file\n",
    "soup = BeautifulSoup(response.text, 'html.parser')\n",
    "\n",
    "faq_list = soup.find_all('li', class_='tr')\n",
    "faq_type = '진행'\n",
    "results = []\n",
    "\n",
    "for faq in faq_list:\n",
    "    question = faq.find('button', class_='question').text.strip()\n",
    "    answer = faq.find('div', class_='ask').text.strip()\n",
    "    if answer != '':\n",
    "        result = {'구분': faq_type, 'QA': f\"{question.strip()}\\n{answer.strip()}\"}\n",
    "        results.append(result)\n",
    "\n",
    "faq_df = pd.DataFrame(results)\n",
    "faq_df.head()"
   ]
  },
  {
   "cell_type": "code",
   "execution_count": 4,
   "metadata": {},
   "outputs": [],
   "source": [
    "faq_df.to_csv('faq_for_aivler.csv')"
   ]
  },
  {
   "cell_type": "markdown",
   "metadata": {},
   "source": [
    "### 3. FAQ for AIVLE school applicants\n",
    "Cookie values ​​are required for crawling. My SESSION value has been masked, so it needs to be modified to use this code."
   ]
  },
  {
   "cell_type": "code",
   "execution_count": 5,
   "metadata": {},
   "outputs": [
    {
     "data": {
      "text/plain": [
       "(<Response [200]>, 7)"
      ]
     },
     "execution_count": 5,
     "metadata": {},
     "output_type": "execute_result"
    }
   ],
   "source": [
    "# Check server connection availability & check total page count\n",
    "\n",
    "headers = {'User-Agnet': 'Mozilla/5.0 (Windows NT 10.0; Win64; x64) AppleWebKit/537.36 (KHTML, like Gecko) Chrome/125.0.0.0 Safari/537.36',}\n",
    "cookie = {'SESSION': '9b077d54-cd88-4b7d-9d26-e61e7f427ed4'}\n",
    "\n",
    "url = f'https://aivle.kt.co.kr/home/brd/faq/listJson'\n",
    "response = requests.get(url, headers=headers, cookies=cookie)\n",
    "totalPageCount = response.json()['pageInfo']['totalPageCount']\n",
    "\n",
    "response, totalPageCount\n"
   ]
  },
  {
   "cell_type": "code",
   "execution_count": 6,
   "metadata": {},
   "outputs": [
    {
     "data": {
      "text/html": [
       "<div>\n",
       "<style scoped>\n",
       "    .dataframe tbody tr th:only-of-type {\n",
       "        vertical-align: middle;\n",
       "    }\n",
       "\n",
       "    .dataframe tbody tr th {\n",
       "        vertical-align: top;\n",
       "    }\n",
       "\n",
       "    .dataframe thead th {\n",
       "        text-align: right;\n",
       "    }\n",
       "</style>\n",
       "<table border=\"1\" class=\"dataframe\">\n",
       "  <thead>\n",
       "    <tr style=\"text-align: right;\">\n",
       "      <th></th>\n",
       "      <th>구분</th>\n",
       "      <th>QA</th>\n",
       "    </tr>\n",
       "  </thead>\n",
       "  <tbody>\n",
       "    <tr>\n",
       "      <th>48</th>\n",
       "      <td>국민내일배움카드</td>\n",
       "      <td>훈련장려금이 무엇인가요?\\n&lt;p&gt;훈련장려금이란 긴 기간의 국비과정을 수강하는 분들에...</td>\n",
       "    </tr>\n",
       "    <tr>\n",
       "      <th>19</th>\n",
       "      <td>모집/선발</td>\n",
       "      <td>(지원서 작성) 현재 4학년 1학기 재학 또는 휴학 등의 사유로 졸업(예정)증명서 ...</td>\n",
       "    </tr>\n",
       "    <tr>\n",
       "      <th>17</th>\n",
       "      <td>모집/선발</td>\n",
       "      <td>인적성검사는 KT 채용과 같은 과목인가요?\\n현재 KT 에이블스쿨은 KT 채용 인적...</td>\n",
       "    </tr>\n",
       "  </tbody>\n",
       "</table>\n",
       "</div>"
      ],
      "text/plain": [
       "          구분                                                 QA\n",
       "48  국민내일배움카드  훈련장려금이 무엇인가요?\\n<p>훈련장려금이란 긴 기간의 국비과정을 수강하는 분들에...\n",
       "19     모집/선발  (지원서 작성) 현재 4학년 1학기 재학 또는 휴학 등의 사유로 졸업(예정)증명서 ...\n",
       "17     모집/선발  인적성검사는 KT 채용과 같은 과목인가요?\\n현재 KT 에이블스쿨은 KT 채용 인적..."
      ]
     },
     "execution_count": 6,
     "metadata": {},
     "output_type": "execute_result"
    }
   ],
   "source": [
    "results = []\n",
    "\n",
    "for i in range(1, totalPageCount+1):\n",
    "    url = f'https://aivle.kt.co.kr/home/brd/faq/listJson?&pageIndex={i}'\n",
    "    response_json = requests.get(url, headers=headers, cookies=cookie).json()\n",
    "    \n",
    "    for data in response_json['returnList']:\n",
    "        question = data['atclTitle']        # 질문\n",
    "        answer = data['atclCts']            # 답변\n",
    "        faq_type = data['ctgrNm']           # 구분\n",
    "        if answer != '':\n",
    "            # sp: 질문의 시작점(start poing), 질문의 인덱싱을 제거하기 위함 -> 예: '1)'\n",
    "            sp = question.find(')')+1\n",
    "            # 질문과 답변은 하나의 chunk로 구성\n",
    "            result = {'구분': faq_type, 'QA': f\"{question[sp:].strip()}\\n{answer.strip()}\"}\n",
    "            results.append(result)\n",
    "    \n",
    "\n",
    "faq_df2 = pd.DataFrame(results)\n",
    "faq_df2.sample(3)"
   ]
  },
  {
   "cell_type": "code",
   "execution_count": 7,
   "metadata": {},
   "outputs": [],
   "source": [
    "faq_df2.to_csv('faq_for_candidate.csv')"
   ]
  }
 ],
 "metadata": {
  "kernelspec": {
   "display_name": "qa_system",
   "language": "python",
   "name": "python3"
  },
  "language_info": {
   "codemirror_mode": {
    "name": "ipython",
    "version": 3
   },
   "file_extension": ".py",
   "mimetype": "text/x-python",
   "name": "python",
   "nbconvert_exporter": "python",
   "pygments_lexer": "ipython3",
   "version": "3.11.9"
  }
 },
 "nbformat": 4,
 "nbformat_minor": 2
}
