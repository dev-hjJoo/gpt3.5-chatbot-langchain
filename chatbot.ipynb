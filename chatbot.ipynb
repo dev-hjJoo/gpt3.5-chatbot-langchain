{
 "cells": [
  {
   "cell_type": "markdown",
   "metadata": {},
   "source": [
    "# Build chatbot"
   ]
  },
  {
   "cell_type": "markdown",
   "metadata": {},
   "source": [
    "## Introduction"
   ]
  },
  {
   "cell_type": "markdown",
   "metadata": {},
   "source": [
    "### Objective\n",
    "Use GPT-3.5, Langchain and ChromaDB (&SQLite) to create Retrieval Augmented Generation (RAG) system.\n",
    "In particular, it was implemented using KT AIVLE School's FAQ data to allow 6th class applicants to easily check information about KT AIVLE school."
   ]
  },
  {
   "cell_type": "markdown",
   "metadata": {},
   "source": [
    "### Development details\n",
    "* **OS**: Windows 11 Pro\n",
    "* **RAG Library**: ConversationalRetrievalChain\n",
    "* **QA model**: gpt-3.5-turbo\n",
    "* **Embedding model**: text-embedding-ada-002\n",
    "* **DB**: SQLite3\n"
   ]
  },
  {
   "cell_type": "markdown",
   "metadata": {},
   "source": [
    "## Environment"
   ]
  },
  {
   "cell_type": "markdown",
   "metadata": {},
   "source": [
    "### Import Libraries"
   ]
  },
  {
   "cell_type": "code",
   "execution_count": 1,
   "metadata": {},
   "outputs": [],
   "source": [
    "import pandas as pd\n",
    "import numpy as np\n",
    "import os\n",
    "import sqlite3\n",
    "from datetime import datetime\n",
    "\n",
    "import openai\n",
    "\n",
    "from langchain.chat_models import ChatOpenAI\n",
    "from langchain.schema import HumanMessage, SystemMessage, Document\n",
    "from langchain.embeddings import OpenAIEmbeddings\n",
    "from langchain.vectorstores import Chroma\n",
    "from langchain.chains import RetrievalQA, ConversationalRetrievalChain\n",
    "from langchain.memory import ConversationBufferMemory\n",
    "\n",
    "import warnings\n",
    "warnings.filterwarnings(\"ignore\", category=DeprecationWarning)"
   ]
  },
  {
   "cell_type": "markdown",
   "metadata": {},
   "source": [
    "### Check OpenAI API Key\n",
    "My API key has been masked, and you must save your API Key as 'OPENAI_API_KEY' in the Windows environment variable and then load it."
   ]
  },
  {
   "cell_type": "code",
   "execution_count": 2,
   "metadata": {},
   "outputs": [
    {
     "name": "stdout",
     "output_type": "stream",
     "text": [
      "sk-\n"
     ]
    }
   ],
   "source": [
    "api_key = os.getenv('OPENAI_API_KEY')\n",
    "print(api_key[:3]) "
   ]
  },
  {
   "cell_type": "markdown",
   "metadata": {},
   "source": [
    "Or uncomment the code below and insert your API key."
   ]
  },
  {
   "cell_type": "code",
   "execution_count": null,
   "metadata": {},
   "outputs": [],
   "source": [
    "# os.environ['OPENAI_API_KEY'] = 'your_API_key' \n",
    "# openai.api_key = os.getenv('OPENAI_API_KEY')"
   ]
  },
  {
   "cell_type": "markdown",
   "metadata": {},
   "source": [
    "## Retrieval Augmetned Generation"
   ]
  },
  {
   "cell_type": "markdown",
   "metadata": {},
   "source": [
    "### 1. Create VectorDB\n",
    "This VectorDB will be used as a retriever later. The csv file was created through crawling and preprocessing, and the code can be checked through the 'crawl_faq.ipynb' file."
   ]
  },
  {
   "cell_type": "code",
   "execution_count": 3,
   "metadata": {},
   "outputs": [
    {
     "name": "stdout",
     "output_type": "stream",
     "text": [
      "Total length: 82\n"
     ]
    },
    {
     "data": {
      "text/html": [
       "<div>\n",
       "<style scoped>\n",
       "    .dataframe tbody tr th:only-of-type {\n",
       "        vertical-align: middle;\n",
       "    }\n",
       "\n",
       "    .dataframe tbody tr th {\n",
       "        vertical-align: top;\n",
       "    }\n",
       "\n",
       "    .dataframe thead th {\n",
       "        text-align: right;\n",
       "    }\n",
       "</style>\n",
       "<table border=\"1\" class=\"dataframe\">\n",
       "  <thead>\n",
       "    <tr style=\"text-align: right;\">\n",
       "      <th></th>\n",
       "      <th>구분</th>\n",
       "      <th>QA</th>\n",
       "    </tr>\n",
       "  </thead>\n",
       "  <tbody>\n",
       "    <tr>\n",
       "      <th>30</th>\n",
       "      <td>교육/수강</td>\n",
       "      <td>비대면으로 진행된다면 개인이 원하는 시간대에 참여할 수 있나요?\\nKT 에이블스쿨은...</td>\n",
       "    </tr>\n",
       "    <tr>\n",
       "      <th>63</th>\n",
       "      <td>기타</td>\n",
       "      <td>AICE (기존 AIFB) 자격증이 있어야 유리한가요?\\n네. AICE (기존 AI...</td>\n",
       "    </tr>\n",
       "    <tr>\n",
       "      <th>26</th>\n",
       "      <td>교육/수강</td>\n",
       "      <td>교육 수료 기준은 무엇인가요?\\n&lt;p&gt;KT 에이블스쿨은 고용노동부 K-Digital...</td>\n",
       "    </tr>\n",
       "  </tbody>\n",
       "</table>\n",
       "</div>"
      ],
      "text/plain": [
       "       구분                                                 QA\n",
       "30  교육/수강  비대면으로 진행된다면 개인이 원하는 시간대에 참여할 수 있나요?\\nKT 에이블스쿨은...\n",
       "63     기타  AICE (기존 AIFB) 자격증이 있어야 유리한가요?\\n네. AICE (기존 AI...\n",
       "26  교육/수강  교육 수료 기준은 무엇인가요?\\n<p>KT 에이블스쿨은 고용노동부 K-Digital..."
      ]
     },
     "execution_count": 3,
     "metadata": {},
     "output_type": "execute_result"
    }
   ],
   "source": [
    "# Load data\n",
    "data1 = pd.read_csv('faq_for_aivler.csv', encoding='utf-8', index_col=0)\n",
    "data2 = pd.read_csv('faq_for_candidate.csv', encoding='utf-8', index_col=0)\n",
    "\n",
    "# Merge \n",
    "total_df = pd.concat([data1, data2])\n",
    "\n",
    "print('Total length:', len(total_df))\n",
    "total_df.sample(3)"
   ]
  },
  {
   "cell_type": "code",
   "execution_count": 4,
   "metadata": {},
   "outputs": [],
   "source": [
    "embeddings = OpenAIEmbeddings(model=\"text-embedding-ada-002\")\n",
    "\n",
    "database = Chroma(persist_directory=\"./db\",        # 경로 지정(현 위치에서 db 폴더 생성)\n",
    "                  embedding_function = embeddings  # 임베딩 벡터로 만들 모델 지정\n",
    ")"
   ]
  },
  {
   "cell_type": "code",
   "execution_count": 5,
   "metadata": {},
   "outputs": [],
   "source": [
    "doc = [Document(page_content = key+'에 관한 내용입니다.\\n'+value) for key, value in total_df.values]\n",
    "idx = database.add_documents(doc)"
   ]
  },
  {
   "cell_type": "markdown",
   "metadata": {},
   "source": [
    "Extract the k results most similar to the query from the database through cosine similarity."
   ]
  },
  {
   "cell_type": "code",
   "execution_count": 6,
   "metadata": {},
   "outputs": [
    {
     "name": "stdout",
     "output_type": "stream",
     "text": [
      "[(Document(page_content='모집/선발에 관한 내용입니다.\\n현재 군 복무중인 상태인데, 지원이 가능한가요?\\n현재 군 복무중인 상태여도 지원 가능합니다. 다만, 교육 시작 전일까지 병역의무를 마쳐야 교육 수강이 가능합니다.'), 0.2954519987106323), (Document(page_content='모집/선발에 관한 내용입니다.\\n현재 군 복무중인 상태인데, 지원이 가능한가요?\\n현재 군 복무중인 상태여도 지원 가능합니다. 다만, 교육 시작 전일까지 병역의무를 마쳐야 교육 수강이 가능합니다.'), 0.295506645278315), (Document(page_content='모집/선발에 관한 내용입니다.\\n이전에 불합격했을 경우 이번에 다시 지원할수 있나요?\\n지원자격에 해당되는 경우 다시 지원이 가능합니다.'), 0.3525104820728302)]\n",
      "--------------------------------------------------\n",
      "- Similarity : 0.29545\n",
      "- Doc: 모집/선발에 관한 내용입니다.\n",
      "현재 군 복무중인 상태인데, 지원이 가능한가요?\n",
      "현재 군 복무중인 상태여도 지원 가능합니다. 다만, 교육 시작 전일까지 병역의무를 마쳐야 교육 수강이 가능합니다.\n",
      "\n",
      "- Similarity : 0.29551\n",
      "- Doc: 모집/선발에 관한 내용입니다.\n",
      "현재 군 복무중인 상태인데, 지원이 가능한가요?\n",
      "현재 군 복무중인 상태여도 지원 가능합니다. 다만, 교육 시작 전일까지 병역의무를 마쳐야 교육 수강이 가능합니다.\n",
      "\n",
      "- Similarity : 0.35251\n",
      "- Doc: 모집/선발에 관한 내용입니다.\n",
      "이전에 불합격했을 경우 이번에 다시 지원할수 있나요?\n",
      "지원자격에 해당되는 경우 다시 지원이 가능합니다.\n",
      "\n"
     ]
    }
   ],
   "source": [
    "k = 3\n",
    "query = \"저는 군인인데 신청 가능한가요?\"\n",
    "\n",
    "result = database.similarity_search_with_score(query, k = k)\n",
    "print(result)\n",
    "print('-'*50)\n",
    "for doc in result:\n",
    "    print(f\"- Similarity : {round(doc[1], 5)}\\n- Doc: {doc[0].page_content}\") # 문서 내용 표시\n",
    "    print()"
   ]
  },
  {
   "cell_type": "markdown",
   "metadata": {},
   "source": [
    "### 2. RAG+LLM"
   ]
  },
  {
   "cell_type": "code",
   "execution_count": 7,
   "metadata": {},
   "outputs": [],
   "source": [
    "# chat_log: Create DB to store chat history\n",
    "path = './db_chatlog/db_chatlog.db'\n",
    "conn = sqlite3.connect(path)\n",
    "\n",
    "cursor = conn.cursor()\n",
    "\n",
    "cursor.execute('''\n",
    "CREATE TABLE IF NOT EXISTS chat_log (\n",
    "    id INTEGER PRIMARY KEY,\n",
    "    datetime TEXT NOT NULL,\n",
    "    query TEXT NOT NULL,\n",
    "    sim1 REAL,\n",
    "    sim2 REAL,\n",
    "    sim3 REAL,\n",
    "    answer INTEGER NOT NULL,\n",
    "    session_id INTEGER NOT NULL\n",
    ")\n",
    "''')\n",
    "\n",
    "conn.commit()\n",
    "conn.close()"
   ]
  },
  {
   "cell_type": "code",
   "execution_count": 8,
   "metadata": {},
   "outputs": [],
   "source": [
    "# Retrieval\n",
    "retriever = database.as_retriever(search_kwargs = {\"k\": k})\n",
    "\n",
    "# Conversation memory for model\n",
    "memory = ConversationBufferMemory(memory_key=\"chat_history\", input_key=\"question\", output_key=\"answer\",\n",
    "                                  return_messages=True)\n",
    "\n",
    "# QA Model: gpt-3.5-turbo\n",
    "chat = ChatOpenAI(model=\"gpt-3.5-turbo\")\n",
    "qa = ConversationalRetrievalChain.from_llm(llm=chat, retriever=retriever, memory=memory,\n",
    "                                           return_source_documents=True,  output_key=\"answer\")\n",
    "\n"
   ]
  },
  {
   "cell_type": "markdown",
   "metadata": {},
   "source": [
    "### 3. Use model"
   ]
  },
  {
   "cell_type": "code",
   "execution_count": 9,
   "metadata": {},
   "outputs": [
    {
     "name": "stdout",
     "output_type": "stream",
     "text": [
      "Query : 안녕하세요?\n",
      "답변 : 안녕하세요! 무엇을 도와드릴까요?\n",
      "====================================================================================================\n",
      "Query : 저는 현재 군인이에요, 지원이 가능한가요?\n",
      "답변 : 현재 군 복무중인 상태여도 지원 가능합니다. 다만, 교육 시작 전일까지 병역의무를 마쳐야 교육 수강이 가능합니다.\n",
      "====================================================================================================\n",
      "Query : 에이블스쿨에 지원할 때 별도의 시험이나 면접 전형이 존재하나요?\n",
      "답변 : KT 에이블스쿨은 별도의 면접 과정이 없습니다.\n",
      "====================================================================================================\n",
      "Query : 시험은 있는 건가요?\n",
      "답변 : KT 에이블스쿨의 교육과정 중에는 시험이 따로 있지는 않습니다. 교과목 종료 시에는 셀프테스트를 통한 역량 점검이 진행됩니다.\n",
      "====================================================================================================\n",
      "Query : 지원할 때 시험이 있는지 궁금해요\n",
      "답변 : 죄송합니다, 해당 질문에 대한 답변을 드릴 수 없습니다.\n",
      "====================================================================================================\n",
      "Query : 알겠습니다, 감사합니다.\n",
      "답변 : KT 에이블스쿨은 미취업자를 대상으로 하는 프로그램이며, 재직자는 지원이 불가능하다고 합니다. 그러나 시험과 관련된 구체적인 내용은 제공되지 않았습니다. 따라서, 시험 여부에 대해서는 정확한 정보를 얻기 위해 KT 에이블스쿨의 공식 웹사이트나 담당 부서에 문의하는 것이 좋을 것 같습니다.\n",
      "====================================================================================================\n",
      "Query : \n"
     ]
    }
   ],
   "source": [
    "# Connect DB\n",
    "path = './db_chatlog/db_chatlog.db'\n",
    "conn = sqlite3.connect(path)\n",
    "\n",
    "while True:\n",
    "    query = input('Query > ')\n",
    "    query = query.strip()\n",
    "    \n",
    "    # dt: Time when query was entered\n",
    "    dt = datetime.now()\n",
    "    dt = dt.strftime('%Y-%m-%d %H:%M:%S')\n",
    "    \n",
    "    # PRINT ::: QUERY\n",
    "    print(f'Query : {query}')\n",
    "    \n",
    "    # Get model results\n",
    "    if len(query) == 0:\n",
    "        break\n",
    "    qa_result = qa({\"question\": query}) # 모델 대답\n",
    "    retriever_result = database.similarity_search_with_score(query, k = 3) # Retriever가 찾은 3개의 답변과 점수\n",
    "    scores = [round(doc[1], 5) for doc in result]\n",
    "    \n",
    "    # Save results in DB\n",
    "    data = pd.DataFrame({'datetime': [dt], 'query': [query], 'answer': [qa_result['answer']],\n",
    "                         'sim1': [scores[0]], 'sim2': [scores[1]], 'sim3': [scores[2]], 'session_id': [-1]})\n",
    "    \n",
    "    data.to_sql('chat_log', conn, if_exists='append', index=False) \n",
    "    \n",
    "    # PRINT ::: ANSWER\n",
    "    print(f'답변 : {qa_result[\"answer\"]}')\n",
    "    print('=' * 100)\n",
    "\n",
    "\n",
    "# Commit changes & close connection to DB\n",
    "conn.commit()\n",
    "conn.close()\n",
    "\n",
    "# # Clear memory of QA model\n",
    "# memory.clear()"
   ]
  },
  {
   "cell_type": "code",
   "execution_count": null,
   "metadata": {},
   "outputs": [],
   "source": []
  }
 ],
 "metadata": {
  "kernelspec": {
   "display_name": "qa_system",
   "language": "python",
   "name": "python3"
  },
  "language_info": {
   "codemirror_mode": {
    "name": "ipython",
    "version": 3
   },
   "file_extension": ".py",
   "mimetype": "text/x-python",
   "name": "python",
   "nbconvert_exporter": "python",
   "pygments_lexer": "ipython3",
   "version": "3.11.9"
  }
 },
 "nbformat": 4,
 "nbformat_minor": 2
}
